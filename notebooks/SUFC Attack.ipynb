{
 "cells": [
  {
   "cell_type": "code",
   "execution_count": null,
   "id": "85b4f649-95ce-4950-890f-88e020cc4264",
   "metadata": {},
   "outputs": [],
   "source": [
    "%load_ext autoreload\n",
    "%autoreload 2"
   ]
  },
  {
   "cell_type": "code",
   "execution_count": null,
   "id": "4fbcd5d2-4cde-4008-8169-20485f76ac04",
   "metadata": {},
   "outputs": [],
   "source": [
    "import sys\n",
    "import os\n",
    "sys.path.append('..')\n",
    "from wyscout.events import get_key_pass_events\n",
    "from wyscout.match import get_match_events, get_team_matches\n",
    "from wyscout.api import set_auth, set_cache_base\n",
    "from dotenv import load_dotenv\n",
    "load_dotenv()\n",
    "set_cache_base(\"..\")"
   ]
  },
  {
   "cell_type": "code",
   "execution_count": null,
   "id": "16f5c3f7-ae1a-4ebb-93c7-6c63b83f434d",
   "metadata": {},
   "outputs": [],
   "source": []
  },
  {
   "cell_type": "code",
   "execution_count": null,
   "id": "35a4d144-b6d6-4bec-af8c-6e78e484352e",
   "metadata": {},
   "outputs": [],
   "source": [
    "CLIENT_ID = os.getenv(\"CLIENT_ID\")\n",
    "CLIENT_SECRET = os.getenv(\"CLIENT_SECRET\")\n",
    "set_auth(CLIENT_ID, CLIENT_SECRET)"
   ]
  },
  {
   "cell_type": "code",
   "execution_count": null,
   "id": "306b9023-af43-4bb5-b7d6-af04fb286b3c",
   "metadata": {},
   "outputs": [],
   "source": [
    "SOUTHEND = 1687\n",
    "SEASON_2022 = 188172"
   ]
  },
  {
   "cell_type": "code",
   "execution_count": null,
   "id": "58a46be6-3b76-4605-bbcf-330c1e49f96b",
   "metadata": {},
   "outputs": [],
   "source": [
    "from wyscout.team import get_team_squad\n",
    "squad = get_team_squad(SOUTHEND, SEASON_2022)\n",
    "squad = {p[\"wyId\"]: p for p in squad[\"squad\"]}"
   ]
  },
  {
   "cell_type": "code",
   "execution_count": null,
   "id": "0b067d67-33ac-49e2-8d5c-5d3c64f59a49",
   "metadata": {},
   "outputs": [],
   "source": [
    "def get_key_passes():\n",
    "    matches = get_team_matches(SOUTHEND, SEASON_2022)\n",
    "    key_pass_events = []\n",
    "    for m in matches[\"matches\"]:\n",
    "        events = get_match_events(m[\"matchId\"])\n",
    "        if \"events\" in events:\n",
    "            key_pass_events.append(get_key_pass_events(\n",
    "                m, events[\"events\"], SOUTHEND))\n",
    "    return key_pass_events"
   ]
  },
  {
   "cell_type": "code",
   "execution_count": null,
   "id": "c3447485-fcaa-408d-9f1d-eb2610ae104c",
   "metadata": {},
   "outputs": [],
   "source": [
    "matches = get_key_passes()"
   ]
  },
  {
   "cell_type": "code",
   "execution_count": null,
   "id": "957527ff-f03c-425e-8619-26e312a32fb1",
   "metadata": {},
   "outputs": [],
   "source": [
    "from wyscout.viz.key_passes import plot_key_passes\n",
    "\n",
    "plot_key_passes(matches, 5, [\"J. Bridge\"])"
   ]
  },
  {
   "cell_type": "code",
   "execution_count": null,
   "id": "d48b8bcb-fe10-4a3d-a278-b96d7779cc4f",
   "metadata": {},
   "outputs": [],
   "source": [
    "def get_shots():\n",
    "    matches = get_team_matches(SOUTHEND, SEASON_2022)\n",
    "    events_out = []\n",
    "    for m in matches[\"matches\"]:\n",
    "        events = get_match_events(m[\"matchId\"])\n",
    "        if \"events\" in events:\n",
    "            events_out.append({\n",
    "                \"matchId\": m[\"matchId\"],\n",
    "                \"date\": m[\"date\"],\n",
    "                \"label\": m[\"label\"],\n",
    "                \"events\": [e for e in events[\"events\"] if e[\"team\"][\"id\"] == SOUTHEND]\n",
    "            })\n",
    "    return events_out"
   ]
  },
  {
   "cell_type": "code",
   "execution_count": null,
   "id": "3c070d14-aaf3-412b-aa18-e837772c459c",
   "metadata": {},
   "outputs": [],
   "source": [
    "match_events = get_shots()"
   ]
  },
  {
   "cell_type": "code",
   "execution_count": 31,
   "id": "a2328b5a-e6ee-4429-b259-43868e13e05e",
   "metadata": {},
   "outputs": [],
   "source": [
    "event = [e for e in match_events[4][\"events\"] if e[\"type\"][\"primary\"] == \"shot\"][0]"
   ]
  },
  {
   "cell_type": "code",
   "execution_count": 41,
   "id": "ea29a71b-8a7f-45f1-8eec-348d233c0e9e",
   "metadata": {},
   "outputs": [
    {
     "data": {
      "text/plain": [
       "{'matchId': 5368929,\n",
       " 'hd': {'url': 'https://cdn5lb.wyscout.com/streaming/g5368929-hd.mp4?vbegin=176&vend=186&ttkid=2578245&Expires=1668643878&Signature=s9HgBbAZCHgWZokGAjEsnO3k23qhHgtFvH8Y17T~Iiwwq89Kmm854v9PLj-I8Her-2BIBEmYESTZHAhW-KGvqs7i6a7L3Ezpw8dsqBF5UDvahwgP88HwTkHfSU3WNtF~RraAwkrAAXdIA~xDCAOP1va9wkNaKl7dSM9yH55Sh1Mzu3zXEQakW60-wXn2UrzA6F-RlnOiH-YTf7OXEfcKIsMV~aaR~EBapAm7va7~rjCnu9vlppMgrvW7BzuoGQ-zFSid4j3DOG-88nTAFl1qE8ZsrXfhtwEzaesQkX~Zs3XyVn27gjd4TwSivTqho382vAuZmloDtBXcAyhBVuagog__&Key-Pair-Id=APKAIUKTLL554SMHRIGQ'},\n",
       " 'offsets': {'1H': {'start': 0, 'end': 2834},\n",
       "  '2H': {'start': 2838, 'end': 5722},\n",
       "  'E1': {'start': 0, 'end': 0},\n",
       "  'E2': {'start': 0, 'end': 0},\n",
       "  'P': {'start': 0, 'end': 0}}}"
      ]
     },
     "execution_count": 41,
     "metadata": {},
     "output_type": "execute_result"
    }
   ],
   "source": [
    "from wyscout.events import get_video_for_event\n",
    "\n",
    "get_video_for_event(event)"
   ]
  },
  {
   "cell_type": "code",
   "execution_count": 36,
   "id": "02c460f8-3d03-4e72-a46e-f66b47ba5960",
   "metadata": {},
   "outputs": [
    {
     "name": "stdout",
     "output_type": "stream",
     "text": [
      "0 Southend United - Dorking Wanderers, 2-0\n",
      "1 Southend United - Notts County, 2-2\n",
      "2 Barnet - Southend United, 0-3\n",
      "3 York City - Southend United, 0-2\n",
      "4 Maidstone United - Southend United, 0-3\n",
      "5 Southend United - Scunthorpe United, 3-0\n",
      "6 Dagenham & Redbridge - Southend United, 1-1\n",
      "7 Southend United - Woking, 1-1\n",
      "8 Southend United - Yeovil Town, 1-0\n",
      "9 Wealdstone - Southend United, 0-1\n",
      "10 Southend United - Wrexham, 0-0\n",
      "11 Chesterfield - Southend United, 3-2\n",
      "12 Southend United - Torquay United, 1-2\n",
      "13 Southend United - Maidenhead United, 2-0\n",
      "14 Eastleigh - Southend United, 2-1\n",
      "15 Southend United - Oldham Athletic, 1-0\n",
      "16 Halifax Town - Southend United, 0-0\n",
      "17 Solihull Moors - Southend United, 1-1\n",
      "18 Southend United - Boreham Wood, 0-1\n"
     ]
    }
   ],
   "source": [
    "for i, m in enumerate([m[\"label\"] for m in match_events]):\n",
    "    print(i,m)"
   ]
  },
  {
   "cell_type": "code",
   "execution_count": null,
   "id": "34e2ffbe-dcba-4383-874b-9513554d8d94",
   "metadata": {},
   "outputs": [],
   "source": [
    "from wyscout.viz.shots import plot_shots_compare\n",
    "\n",
    "plot_shots_compare(match_events, 11)"
   ]
  },
  {
   "cell_type": "code",
   "execution_count": null,
   "id": "e5f6adbc-0c6e-4fb4-bf34-276b978c838c",
   "metadata": {},
   "outputs": [],
   "source": [
    "from statistics import mean\n",
    "for i, m in enumerate(match_events[:]):\n",
    "    shots = [e for e in m[\"events\"] if e[\"type\"][\"primary\"] in [\"shot\"]]\n",
    "    m[\"total_shots\"] = len(shots)\n",
    "    m[\"goals\"] = len([s for s in shots if s[\"shot\"][\"isGoal\"] == True ])\n",
    "    m[\"average_xg\"] = mean([s[\"shot\"][\"xg\"] for s in shots])\n",
    "    m[\"total_xg\"] = sum([s[\"shot\"][\"xg\"] for s in shots])"
   ]
  },
  {
   "cell_type": "code",
   "execution_count": null,
   "id": "d86814b0-d250-4337-aff3-16446a58829d",
   "metadata": {},
   "outputs": [],
   "source": [
    "for m in match_events:\n",
    "    print(m[\"label\"], m[\"total_shots\"], m[\"goals\"], m[\"average_xg\"], m[\"total_xg\"])"
   ]
  },
  {
   "cell_type": "code",
   "execution_count": null,
   "id": "1d58507c-7ed6-4696-9102-95f00c155134",
   "metadata": {},
   "outputs": [],
   "source": [
    "import matplotlib.pyplot as plt\n",
    "\n",
    "fig = plt.figure()\n",
    "ax = fig.add_axes([0,0,1,1])\n",
    "\n",
    "ax.bar(\n",
    "    [m[\"label\"] for m in match_events],\n",
    "    [m[\"average_xg\"] for m in match_events],\n",
    "    color=[\"blue\"]\n",
    ")\n",
    "plt.xticks(rotation=90)\n",
    "plt.title(\"Average xG per attempt\")\n",
    "plt.ylabel(\"xG\")\n",
    "plt.style.use(\"fivethirtyeight\")\n",
    "plt.show()"
   ]
  },
  {
   "cell_type": "code",
   "execution_count": null,
   "id": "b81b673d-ecf0-4706-a621-d74a2b390513",
   "metadata": {},
   "outputs": [],
   "source": []
  },
  {
   "cell_type": "code",
   "execution_count": null,
   "id": "8a82c2d1-2ce3-4736-ab29-e7bb818bdd10",
   "metadata": {},
   "outputs": [],
   "source": []
  },
  {
   "cell_type": "code",
   "execution_count": null,
   "id": "63fc88b9-5e81-4b46-8a3d-247bdd89dc34",
   "metadata": {},
   "outputs": [],
   "source": []
  }
 ],
 "metadata": {
  "kernelspec": {
   "display_name": "Python 3 (ipykernel)",
   "language": "python",
   "name": "python3"
  },
  "language_info": {
   "codemirror_mode": {
    "name": "ipython",
    "version": 3
   },
   "file_extension": ".py",
   "mimetype": "text/x-python",
   "name": "python",
   "nbconvert_exporter": "python",
   "pygments_lexer": "ipython3",
   "version": "3.10.8"
  }
 },
 "nbformat": 4,
 "nbformat_minor": 5
}
